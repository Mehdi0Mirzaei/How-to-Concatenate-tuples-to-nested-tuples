{
 "cells": [
  {
   "cell_type": "code",
   "execution_count": 21,
   "id": "f2ee712e",
   "metadata": {},
   "outputs": [
    {
     "name": "stdout",
     "output_type": "stream",
     "text": [
      "The original tuple 1 : ((3, 4),)\n",
      "The original tuple 2 : ((5, 6),)\n",
      "Tuples after Concatenating : ((3, 4), (5, 6))\n"
     ]
    }
   ],
   "source": [
    "# initialize tuples\n",
    "test_tup1 = (3, 4),\n",
    "test_tup2 = (5, 6),\n",
    " \n",
    "# printing original tuples\n",
    "print(\"The original tuple 1 : \" + str(test_tup1))\n",
    "print(\"The original tuple 2 : \" + str(test_tup2))\n",
    " \n",
    "# Concatenating tuples to nested tuples\n",
    "# using + operator + \", \" operator during initialization\n",
    "res = test_tup1 + test_tup2\n",
    " \n",
    "# printing result\n",
    "print(\"Tuples after Concatenating : \" + str(res))\n"
   ]
  },
  {
   "cell_type": "code",
   "execution_count": 22,
   "id": "45616cba",
   "metadata": {},
   "outputs": [
    {
     "name": "stdout",
     "output_type": "stream",
     "text": [
      "The original tuple 1 : (3, 4)\n",
      "The original tuple 2 : (5, 6)\n",
      "Tuples after Concatenating : ((3, 4), (5, 6))\n"
     ]
    }
   ],
   "source": [
    "# initialize tuples\n",
    "test_tup1 = (3, 4)\n",
    "test_tup2 = (5, 6)\n",
    " \n",
    "# printing original tuples\n",
    "print(\"The original tuple 1 : \" + str(test_tup1))\n",
    "print(\"The original tuple 2 : \" + str(test_tup2))\n",
    " \n",
    "# Concatenating tuples to nested tuples\n",
    "# Using \", \" operator during concatenation\n",
    "res = ((test_tup1, ) + (test_tup2, ))\n",
    " \n",
    "# printing result\n",
    "print(\"Tuples after Concatenating : \" + str(res))"
   ]
  },
  {
   "cell_type": "code",
   "execution_count": 23,
   "id": "6960a0ba",
   "metadata": {},
   "outputs": [
    {
     "name": "stdout",
     "output_type": "stream",
     "text": [
      "The original tuple 1 : ((3, 4),)\n",
      "The original tuple 2 : ((5, 6),)\n",
      "Tuples after Concatenating : ((3, 4), (5, 6))\n"
     ]
    }
   ],
   "source": [
    "# initialize tuples\n",
    "test_tup1 = (3, 4),\n",
    "test_tup2 = (5, 6),\n",
    " \n",
    "# printing original tuples\n",
    "print(\"The original tuple 1 : \" + str(test_tup1))\n",
    "print(\"The original tuple 2 : \" + str(test_tup2))\n",
    " \n",
    "# Concatenating tuples to nested tuples\n",
    "test_tup1 = list(test_tup1)\n",
    "test_tup2 = list(test_tup2)\n",
    "test_tup1.extend(test_tup2)\n",
    "# printing result\n",
    "print(\"Tuples after Concatenating : \" + str(tuple(test_tup1)))"
   ]
  },
  {
   "cell_type": "code",
   "execution_count": 24,
   "id": "e07fedbd",
   "metadata": {},
   "outputs": [
    {
     "name": "stdout",
     "output_type": "stream",
     "text": [
      "Tuples after Concatenating :  ([3, 4], [5, 6])\n"
     ]
    }
   ],
   "source": [
    "# initialize tuples\n",
    "test_tup1 = (3, 4)\n",
    "test_tup2 = (5, 6)\n",
    " \n",
    "# create an empty list\n",
    "lst = []\n",
    " \n",
    "# Concatenating tuples to nested tuples\n",
    "# using extend() method of list class\n",
    "lst.extend(test_tup1)\n",
    "lst.extend(test_tup2)\n",
    "res = tuple([lst[i:i+2] for i in range(0, len(lst), 2)])\n",
    " \n",
    "# printing result\n",
    "print(\"Tuples after Concatenating : \", res)"
   ]
  },
  {
   "cell_type": "code",
   "execution_count": null,
   "id": "6ddb6105",
   "metadata": {},
   "outputs": [],
   "source": []
  }
 ],
 "metadata": {
  "kernelspec": {
   "display_name": "Python 3 (ipykernel)",
   "language": "python",
   "name": "python3"
  },
  "language_info": {
   "codemirror_mode": {
    "name": "ipython",
    "version": 3
   },
   "file_extension": ".py",
   "mimetype": "text/x-python",
   "name": "python",
   "nbconvert_exporter": "python",
   "pygments_lexer": "ipython3",
   "version": "3.9.13"
  }
 },
 "nbformat": 4,
 "nbformat_minor": 5
}
